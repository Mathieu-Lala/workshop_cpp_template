{
 "cells": [
  {
   "cell_type": "markdown",
   "metadata": {},
   "source": [
    "# Workshop CPP meta-programming\n",
    "\n",
    "Everything you need to learn template and metaprogramming in C++\n",
    "\n",
    "\n",
    "This workshop will help you to learn templates and metaprogramming from scratch : don't panic if you never used them before.\n",
    "Take a look on the definition of ['template metaprogramming'](https://en.wikipedia.org/wiki/Template_metaprogramming)\n",
    "\n",
    "**Warning : C++ meta-programming is not modern C++**  (and it trend to be deprecated), but it is a very interesting topic !"
   ]
  },
  {
   "cell_type": "markdown",
   "metadata": {},
   "source": [
    "## Usage\n",
    "\n",
    "<div style=\"background: #efffed;\n",
    "            border: 1px solid grey;\n",
    "            margin: 8px 0 8px 0;\n",
    "            text-align: center;\n",
    "            padding: 8px; \">\n",
    "    <i class=\"fa-play fa\" \n",
    "       style=\"font-size: 40px;\n",
    "              line-height: 40px;\n",
    "              margin: 8px;\n",
    "              color: #444;\">\n",
    "    </i>\n",
    "    <div>\n",
    "    To run the selected code cell, hit <pre style=\"background: #efffed\">Shift + Enter</pre>\n",
    "    </div>\n",
    "</div>"
   ]
  },
  {
   "cell_type": "markdown",
   "metadata": {},
   "source": [
    "# Introduction\n",
    "\n",
    "Begin with a little introduction of template utilisation\n",
    "\n",
    "## 0.0 my_abs:\n",
    "implement a function returning the **absolute value** of the argument regarless of the type\n",
    "\n",
    "\n",
    "**GOAL** : Understand how to write `template` in C++, and how we can use them\n",
    "\n",
    "You can look here if you get stuck : [Introduction](https://blog.feabhas.com/2014/05/an-introduction-to-c-templates/)"
   ]
  },
  {
   "cell_type": "code",
   "execution_count": null,
   "metadata": {},
   "outputs": [],
   "source": [
    "#include <iostream>\n",
    "\n",
    "//CODE HERE"
   ]
  },
  {
   "cell_type": "markdown",
   "metadata": {},
   "source": [
    "**To compile your code run it and to test run the following cell**"
   ]
  },
  {
   "cell_type": "code",
   "execution_count": null,
   "metadata": {},
   "outputs": [],
   "source": [
    "std::cout << my_abs(-42) << \" expect: 42\\n\" << my_abs(0.666f) << \" expect: 0.666\\n\" << my_abs(-4000000000l) << \" expect: 4000000000\" << std::endl;"
   ]
  },
  {
   "cell_type": "markdown",
   "metadata": {},
   "source": [
    "## 0.1 my_max:\n",
    "   implement a function returning `true` if the first argument is **greater than** the second one, `false` otherwise, regardeless of the type\n",
    "\n",
    "**GOAL** : Understand how to write template in C++, and how we can use them\n"
   ]
  },
  {
   "cell_type": "code",
   "execution_count": null,
   "metadata": {},
   "outputs": [],
   "source": [
    "//CODE HERE"
   ]
  },
  {
   "cell_type": "markdown",
   "metadata": {},
   "source": [
    "**Test :**"
   ]
  },
  {
   "cell_type": "code",
   "execution_count": null,
   "metadata": {},
   "outputs": [],
   "source": [
    "#include <iostream>\n",
    "\n",
    "std::cout << std::boolalpha;\n",
    "std::cout << my_max(3, 5) << \" expect: false\" << std::endl;\n",
    "std::cout << my_max(42000.0f, 0.42000f) << \" expect: true\" << std::endl;"
   ]
  },
  {
   "cell_type": "markdown",
   "metadata": {},
   "source": [
    "# Basics\n",
    "\n",
    "Let's see the basics of template meta programming\n",
    "\n",
    "## 1.0 my_first_meta :\n",
    "\n",
    "re-implement the previous exercise (`abs` and `max`) but this time,\n",
    "value are known at **compile-time**\n",
    "\n",
    "**GOAL** : First step into meta. Let's work with value\n",
    "\n",
    "You might use this help : [Basics](https://www.codeproject.com/Articles/3743/A-gentle-introduction-to-Template-Metaprogramming)"
   ]
  },
  {
   "cell_type": "code",
   "execution_count": null,
   "metadata": {},
   "outputs": [],
   "source": [
    "//CODE HERE"
   ]
  },
  {
   "cell_type": "markdown",
   "metadata": {},
   "source": [
    "**Test :**"
   ]
  },
  {
   "cell_type": "code",
   "execution_count": null,
   "metadata": {},
   "outputs": [],
   "source": [
    "#include <iostream>\n",
    "\n",
    "std::cout << my_meta_abs<int, -42>::value << \" expect: 42\" <<std::endl;\n",
    "std::cout << my_meta_abs<long, -4000000000l>::value << \" expect: 4000000000\" << std::endl;\n",
    "std::cout << std::boolalpha;\n",
    "std::cout << my_meta_max<int, 6, 5>::value << \" expect: true\" << std::endl;\n",
    "std::cout << my_meta_max<std::size_t, 2ul, 7000000000ul>::value << \" expect: false\" << std::endl;"
   ]
  },
  {
   "cell_type": "markdown",
   "metadata": {},
   "source": [
    "## 1.1  factorial:\n",
    "\n",
    "implement a template computing the **factorial** of the input, at **compile-time**\n",
    "\n",
    "**GOAL** : Understand how to implement mathematical function thanks to template-programming"
   ]
  },
  {
   "cell_type": "code",
   "execution_count": null,
   "metadata": {},
   "outputs": [],
   "source": [
    "//CODE HERE"
   ]
  },
  {
   "cell_type": "markdown",
   "metadata": {},
   "source": [
    "**Test :**"
   ]
  },
  {
   "cell_type": "code",
   "execution_count": null,
   "metadata": {},
   "outputs": [],
   "source": [
    "#include <iostream>\n",
    "\n",
    "std::cout << my_fact<3>::value << \" expect: 6\" << std::endl;\n",
    "std::cout << my_fact<10>::value << \" expect: 3628800\" << std::endl;\n",
    "std::cout << my_fact<0>::value << \" expect: 1\" << std::endl;"
   ]
  },
  {
   "cell_type": "markdown",
   "metadata": {},
   "source": [
    "## 1.2 is_same:\n",
    "\n",
    "implement a tool able to check if **two type are the same**\n",
    "\n",
    "**GOAL** : Meta programming : Let's work around type"
   ]
  },
  {
   "cell_type": "code",
   "execution_count": null,
   "metadata": {},
   "outputs": [],
   "source": [
    "//CODE HERE"
   ]
  },
  {
   "cell_type": "markdown",
   "metadata": {},
   "source": [
    "**Test :**"
   ]
  },
  {
   "cell_type": "code",
   "execution_count": null,
   "metadata": {},
   "outputs": [],
   "source": [
    "#include <iostream>\n",
    "\n",
    "std::cout << std::boolalpha;\n",
    "    std::cout << (bool) my_is_same<char, char>::value << \" expect: true\" << std::endl;\n",
    "    std::cout << (bool) my_is_same<int, double>::value << \" expect: false\" << std::endl;\n",
    "    std::cout << (bool) my_is_same<float, long>::value << \" expect: false\" << std::endl;\n",
    "\n",
    "    // value will be true only if the two types are exaclty the same,\n",
    "    // in some case, we don't want that presicion :\n",
    "\n",
    "    std::cout << (\n",
    "        my_is_same<char, const char>::value ||\n",
    "        my_is_same<char, unsigned char>::value ||\n",
    "        my_is_same<char, volatile char>::value ||\n",
    "        my_is_same<char, char &>::value ||\n",
    "        my_is_same<char, const char &>::value ||\n",
    "        my_is_same<char, char &&>::value ||\n",
    "        my_is_same<char, signed char>::value)\n",
    "     << \" expect: false\" << std::endl;\n",
    "\n",
    "    // This can also be used at run-time :\n",
    "\n",
    "    int a = 0;\n",
    "    int b = 1;\n",
    "    int &c = b;\n",
    "\n",
    "    std::cout << (bool) my_is_same<decltype(a), decltype(b)>::value << \" expect: true\" << std::endl;\n",
    "    std::cout << (bool) my_is_same<decltype(a), decltype(c)>::value << \" expect: false\" << std::endl;\n",
    "\n",
    "    return 0;"
   ]
  },
  {
   "cell_type": "markdown",
   "metadata": {},
   "source": [
    "## 1.3 is_const:\n",
    "\n",
    "implement a tool telling if the given type is **const or not**\n",
    "\n",
    "**GOAL** : Meta programming : Let's work around type and specialization"
   ]
  },
  {
   "cell_type": "code",
   "execution_count": null,
   "metadata": {},
   "outputs": [],
   "source": [
    "//CODE HERE"
   ]
  },
  {
   "cell_type": "markdown",
   "metadata": {},
   "source": [
    "**Test :**"
   ]
  },
  {
   "cell_type": "code",
   "execution_count": null,
   "metadata": {},
   "outputs": [],
   "source": [
    "#include <iostream>\n",
    "\n",
    "std::cout << std::boolalpha;\n",
    "std::cout << (bool) my_is_const<char>::value << \" expect: false\" << std::endl;\n",
    "std::cout << (bool) my_is_const<const std::string>::value << \" expect: true\" << std::endl;\n",
    "std::cout << (bool) my_is_const<decltype(26ul)>::value << \" expect: false\" << std::endl;"
   ]
  },
  {
   "cell_type": "markdown",
   "metadata": {},
   "source": [
    "# Intermediate\n",
    "\n",
    "**Good job ! let's try more difficult**\n",
    "\n",
    "## 2.0 remove_const:\n",
    "\n",
    "implement a tool that **take a type as parameter** and return the same type **without constness**\n",
    "\n",
    "**GOAL** : Meta programming : Let's work around type and specialization"
   ]
  },
  {
   "cell_type": "code",
   "execution_count": 21,
   "metadata": {},
   "outputs": [],
   "source": [
    "//CODE HERE\n",
    "\n",
    "// Feel free to implement remove_pointer, remove_volatile, remove_reference ...\n",
    "// or even add_const, add_pointer, add_volatile, add_reference ..."
   ]
  },
  {
   "cell_type": "markdown",
   "metadata": {},
   "source": [
    "**Test :**"
   ]
  },
  {
   "cell_type": "code",
   "execution_count": null,
   "metadata": {},
   "outputs": [],
   "source": [
    "using not_const_const_char = my_remove_const<const char>::type;\n",
    "\n",
    "not_const_const_char c2 = 'A';\n",
    "c2 = 'Z';\n",
    "\n",
    "using not_const_string = my_remove_const<std::string>::type;\n",
    "\n",
    "not_const_string str(\"Hello world\");\n",
    "str = \"World Hello\";"
   ]
  },
  {
   "cell_type": "markdown",
   "metadata": {},
   "source": [
    "**If there are no errors when running good job :)**"
   ]
  },
  {
   "cell_type": "markdown",
   "metadata": {},
   "source": [
    "## 2.1 conditional:\n",
    "\n",
    "implement a tool that **take a condition** and **two types** returning the first type if the condition is `true`, the second otherwise\n",
    "\n",
    "**GOAL** : Meta programming : Let's work around condition"
   ]
  },
  {
   "cell_type": "code",
   "execution_count": null,
   "metadata": {},
   "outputs": [],
   "source": [
    "//CODE HERE"
   ]
  },
  {
   "cell_type": "markdown",
   "metadata": {},
   "source": [
    "**Test :**"
   ]
  },
  {
   "cell_type": "code",
   "execution_count": null,
   "metadata": {},
   "outputs": [],
   "source": [
    "#include <iostream>\n",
    "\n",
    "using type_1 = my_conditional<true, char, const short>::type;\n",
    "using type_2 = my_conditional<false, long, unsigned int>::type;\n",
    "\n",
    "//static_assert(my_is_same<type_1, char>::value);\n",
    "//static_assert(my_is_same<type_2, unsigned int>::value);\n",
    "\n",
    "enum Letter { A, B, C, D, };\n",
    "\n",
    "using type_C = my_conditional<C <= (1 << sizeof(int8_t)), int8_t, int>::type;\n",
    "using type_D = my_conditional<D <= (1 << sizeof(int8_t)), int8_t, int>::type;\n",
    "\n",
    "std::cout << sizeof(Letter) << \" expected 4\" << std::endl;\n",
    "std::cout << sizeof(type_C) << \" expected 1\" << std::endl;\n",
    "std::cout << sizeof(type_D) << \" expected 4\" << std::endl;\n",
    "\n",
    "type_C a_C = A; // a_C is store on 8 bits\n",
    "type_D a_D = A; // a_D is store on 32 bits"
   ]
  },
  {
   "cell_type": "markdown",
   "metadata": {},
   "source": [
    "## 2.2 my_printf :\n",
    "\n",
    "implement **printf** like function using `template`\n",
    "\n",
    "**GOAL** : Introduction to variadic template\n",
    "\n",
    "Ok, last help here : [Variadic template](https://eli.thegreenplace.net/2014/variadic-templates-in-c/)"
   ]
  },
  {
   "cell_type": "code",
   "execution_count": null,
   "metadata": {},
   "outputs": [],
   "source": [
    "#include <iostream>\n",
    "\n",
    "//CODE HERE"
   ]
  },
  {
   "cell_type": "markdown",
   "metadata": {},
   "source": [
    "**Test :**"
   ]
  },
  {
   "cell_type": "code",
   "execution_count": null,
   "metadata": {
    "scrolled": true
   },
   "outputs": [],
   "source": [
    "my_printf(\"Hello %\\n\", \"World\");\n",
    "my_printf(\"1 % % % 5\\n\", 2, 3, 4);\n",
    "\n",
    "int bar;\n",
    "my_printf(\"% % % %\\n\", true, 3, \"foo\", &bar);"
   ]
  },
  {
   "cell_type": "markdown",
   "metadata": {},
   "source": [
    "## 2.3 enable_if :\n",
    "\n",
    "The main problem in C++ and in template programming is\n",
    "**compilation error message**. How can we make them better ? Implement a tool\n",
    "**taking a condition**, if `true` **breaking the compilaton to make it more debuggable**\n",
    "\n",
    "**GOAL** : Introduction to \"Substitution Failure Is Not An Error\"\n"
   ]
  },
  {
   "cell_type": "code",
   "execution_count": null,
   "metadata": {},
   "outputs": [],
   "source": [
    "//CODE HERE"
   ]
  },
  {
   "cell_type": "markdown",
   "metadata": {},
   "source": [
    "**Test :**"
   ]
  },
  {
   "cell_type": "code",
   "execution_count": null,
   "metadata": {
    "scrolled": false
   },
   "outputs": [],
   "source": [
    "#include <iostream>\n",
    "\n",
    "std::cout << my_abs_if(std::string(\"this is impossible\")) << std::endl;"
   ]
  },
  {
   "cell_type": "markdown",
   "metadata": {},
   "source": [
    "**Cannot be compile, try to stop compilation and display errors**"
   ]
  },
  {
   "cell_type": "markdown",
   "metadata": {},
   "source": [
    "# Advandced\n",
    "\n",
    "Now we're talking\n",
    "\n",
    "## has_sort :\n",
    "\n",
    "`std::sort` is the way to sort data in C++\n",
    "but sometimes we want to use custom sorter. Implement a tool that **tell\n",
    "you if an input type contain a method sort**\n",
    "\n",
    "**GOAL** : Let's go **insanity**"
   ]
  },
  {
   "cell_type": "markdown",
   "metadata": {},
   "source": [
    "`This one cannot be compile on this site, the compiler trick is too huge ! Do it with your compiler`\n",
    "\n"
   ]
  },
  {
   "cell_type": "markdown",
   "metadata": {},
   "source": [
    "**A method to test :**"
   ]
  },
  {
   "cell_type": "markdown",
   "metadata": {},
   "source": [
    "`std::cout << (bool) has_sort<my_data>::value << \" expect: true\" << std::endl;`\n",
    "\n",
    "\n",
    "`std::cout << (bool) has_sort<int>::value << \" expect: false\" << std::endl;`"
   ]
  },
  {
   "cell_type": "markdown",
   "metadata": {},
   "source": [
    "**WELL DONE !**"
   ]
  },
  {
   "cell_type": "markdown",
   "metadata": {},
   "source": [
    "## License\n",
    "\n",
    "This software is licensed under the ISC license (see [LICENSE.txt](LICENSE.txt)).\n",
    "\n",
    "## Author\n",
    "\n",
    "* **Mathieu Lala**  - [GitHub](https://github.com/Mathieu-Lala)\n",
    "* **Hugo Prat**     - [GitHub](https://github.com/HugoPrat)\n"
   ]
  }
 ],
 "metadata": {
  "kernelspec": {
   "display_name": "C++17",
   "language": "C++17",
   "name": "xcpp17"
  },
  "language_info": {
   "codemirror_mode": "text/x-c++src",
   "file_extension": ".cpp",
   "mimetype": "text/x-c++src",
   "name": "c++",
   "version": "17"
  }
 },
 "nbformat": 4,
 "nbformat_minor": 2
}
